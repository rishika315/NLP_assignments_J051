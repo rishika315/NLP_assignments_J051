{
  "nbformat": 4,
  "nbformat_minor": 0,
  "metadata": {
    "colab": {
      "provenance": []
    },
    "kernelspec": {
      "name": "python3",
      "display_name": "Python 3"
    },
    "language_info": {
      "name": "python"
    }
  },
  "cells": [
    {
      "cell_type": "markdown",
      "source": [
        "# **PART 2**"
      ],
      "metadata": {
        "id": "UFzMRLZS9OJW"
      }
    },
    {
      "cell_type": "markdown",
      "source": [
        " rule-based date parser using only built-in Python libraries and regex, with input like natural-language sentences and output as DD-MM-YYYY"
      ],
      "metadata": {
        "id": "ntLnKfWQ9N_T"
      }
    },
    {
      "cell_type": "code",
      "execution_count": 10,
      "metadata": {
        "id": "6qBQDLIr8EcW"
      },
      "outputs": [],
      "source": [
        "import re\n",
        "\n",
        "MONTHS = {\n",
        "    'january': '01', 'jan': '01',\n",
        "    'february': '02', 'feb': '02',\n",
        "    'march': '03', 'mar': '03',\n",
        "    'april': '04', 'apr': '04',\n",
        "    'may': '05',\n",
        "    'june': '06', 'jun': '06',\n",
        "    'july': '07', 'jul': '07',\n",
        "    'august': '08', 'aug': '08',\n",
        "    'september': '09', 'sep': '09', 'sept': '09',\n",
        "    'october': '10', 'oct': '10',\n",
        "    'november': '11', 'nov': '11',\n",
        "    'december': '12', 'dec': '12'\n",
        "}\n",
        "\n",
        "def pad(x): return str(x).zfill(2)\n",
        "\n",
        "def fix_year(y): return str(2000 + int(y)) if len(y) == 2 and int(y) < 50 else str(1900 + int(y)) if len(y) == 2 else y\n",
        "\n",
        "def parse_date(text):\n",
        "    text = text.lower()\n",
        "\n",
        "    # 1. YYYY-MM-DD or YYYY/MM/DD or YYYY.MM.DD\n",
        "    match = re.search(r'(\\d{4})[-/.](\\d{1,2})[-/.](\\d{1,2})', text)\n",
        "    if match:\n",
        "        y, m, d = match.groups()\n",
        "        return f\"{pad(d)}/{pad(m)}/{y}\"\n",
        "\n",
        "    # 2. DD-MM-YYYY or DD/MM/YYYY or DD.MM.YYYY\n",
        "    match = re.search(r'\\b(\\d{1,2})[-/.](\\d{1,2})[-/.](\\d{4})\\b', text)\n",
        "    if match:\n",
        "        d, m, y = match.groups()\n",
        "        return f\"{pad(d)}/{pad(m)}/{y}\"\n",
        "\n",
        "    # 3. Ambiguous DD/MM/YY or MM/DD/YY\n",
        "    match = re.search(r'\\b(\\d{1,2})/(\\d{1,2})/(\\d{2})\\b', text)\n",
        "    if match:\n",
        "        a, b, y = match.groups()\n",
        "        a, b = int(a), int(b)\n",
        "        d, m = (a, b) if a <= 12 and b > 12 else (b, a) if b <= 12 and a > 12 else (a, b)\n",
        "        return f\"{pad(d)}/{pad(m)}/{fix_year(y)}\"\n",
        "\n",
        "    # 4. Month DD, YYYY or Month DD YYYY\n",
        "    match = re.search(r'\\b(' + '|'.join(MONTHS.keys()) + r')\\s+(\\d{1,2})(?:st|nd|rd|th)?,?\\s+(\\d{4})', text)\n",
        "    if match:\n",
        "        month, day, year = match.groups()\n",
        "        return f\"{pad(day)}/{MONTHS[month]}/{year}\"\n",
        "\n",
        "    # 5. DDth of Month YYYY or DDth Month YYYY\n",
        "    match = re.search(r'\\b(\\d{1,2})(?:st|nd|rd|th)?(?:\\s+of)?\\s+(' + '|'.join(MONTHS.keys()) + r')\\s+(\\d{4})', text)\n",
        "    if match:\n",
        "        day, month, year = match.groups()\n",
        "        return f\"{pad(day)}/{MONTHS[month]}/{year}\"\n",
        "\n",
        "    return \"DATE_NOT_FOUND\"\n"
      ]
    },
    {
      "cell_type": "code",
      "source": [
        "import csv\n",
        "\n",
        "with open(\"date_parser_testcases.csv\", encoding='utf-8') as f:\n",
        "    reader = csv.DictReader(f)\n",
        "    total, correct = 0, 0\n",
        "\n",
        "    for row in reader:\n",
        "        inp = row['Input']\n",
        "        expected = row['Expected Output']\n",
        "        predicted = parse_date(inp)\n",
        "\n",
        "        if predicted == expected:\n",
        "            correct += 1\n",
        "        else:\n",
        "            print(f\"❌ Input: {inp}\\nExpected: {expected} | Got: {predicted}\\n\")\n",
        "        total += 1\n",
        "\n",
        "    print(f\"✅ Accuracy: {correct}/{total} = {correct / total:.2%}\")\n"
      ],
      "metadata": {
        "colab": {
          "base_uri": "https://localhost:8080/"
        },
        "id": "6KgfpvZj8PNY",
        "outputId": "0393780b-2165-401d-9b4c-f0c7eb37f086"
      },
      "execution_count": 11,
      "outputs": [
        {
          "output_type": "stream",
          "name": "stdout",
          "text": [
            "❌ Input: The concert is scheduled for 15th September, 2021.\n",
            "Expected: 15/09/2021 | Got: DATE_NOT_FOUND\n",
            "\n",
            "❌ Input: Her appointment is on the 2nd of March, 2021.\n",
            "Expected: 02/03/2021 | Got: DATE_NOT_FOUND\n",
            "\n",
            "❌ Input: Submit your report by 08/31/2021.\n",
            "Expected: 31/08/2021 | Got: 08/31/2021\n",
            "\n",
            "❌ Input: Independence Day is on 4th of July, 2022.\n",
            "Expected: 04/07/2022 | Got: DATE_NOT_FOUND\n",
            "\n",
            "❌ Input: The seminar is on 03/14/2022.\n",
            "Expected: 14/03/2022 | Got: 03/14/2022\n",
            "\n",
            "❌ Input: They moved in on 12/25/2019.\n",
            "Expected: 25/12/2019 | Got: 12/25/2019\n",
            "\n",
            "❌ Input: His wedding is on 6th of August, 2020.\n",
            "Expected: 06/08/2020 | Got: DATE_NOT_FOUND\n",
            "\n",
            "❌ Input: Vacation starts on 07/15/2021.\n",
            "Expected: 15/07/2021 | Got: 07/15/2021\n",
            "\n",
            "❌ Input: Input\n",
            "Expected: Expected Output | Got: DATE_NOT_FOUND\n",
            "\n",
            "❌ Input: We celebrate Christmas every year on 25th Dec, including 2024.\n",
            "Expected: 25/12/2024 | Got: DATE_NOT_FOUND\n",
            "\n",
            "❌ Input: Their anniversary is marked on the 2nd of March, 2021.\n",
            "Expected: 02/03/2021 | Got: DATE_NOT_FOUND\n",
            "\n",
            "❌ Input: The submission deadline, noted as 08/31/2021, is fast approaching.\n",
            "Expected: 31/08/2021 | Got: 08/31/2021\n",
            "\n",
            "❌ Input: We celebrate Independence Day on the 4th of July every year, including 2022.\n",
            "Expected: 04/07/2022 | Got: DATE_NOT_FOUND\n",
            "\n",
            "❌ Input: We scheduled the seminar for 03/14/2022, don't forget.\n",
            "Expected: 14/03/2022 | Got: 03/14/2022\n",
            "\n",
            "❌ Input: They officially moved in on 12/25/2019.\n",
            "Expected: 25/12/2019 | Got: 12/25/2019\n",
            "\n",
            "❌ Input: The wedding is on 6th of August, 2020, in the evening.\n",
            "Expected: 06/08/2020 | Got: DATE_NOT_FOUND\n",
            "\n",
            "❌ Input: Vacation officially starts on 07/15/2021, get ready.\n",
            "Expected: 15/07/2021 | Got: 07/15/2021\n",
            "\n",
            "✅ Accuracy: 83/100 = 83.00%\n"
          ]
        }
      ]
    },
    {
      "cell_type": "markdown",
      "source": [
        "# **PART 3**"
      ],
      "metadata": {
        "id": "KlXoP59Y9T3l"
      }
    },
    {
      "cell_type": "markdown",
      "source": [
        "1. Parse the sentence using spaCy to get token-by-token structure.\n",
        "\n",
        "2. Look for gendered pronouns and replace them using a mapping dictionary.\n",
        "\n",
        "3. Preserve casing, punctuation, and grammar.\n",
        "\n",
        "4. Support both male → female and female → male.\n",
        "\n",
        "\n"
      ],
      "metadata": {
        "id": "UvQWCPlV9hge"
      }
    },
    {
      "cell_type": "code",
      "source": [
        "pip install spacy"
      ],
      "metadata": {
        "colab": {
          "base_uri": "https://localhost:8080/"
        },
        "id": "fJS6oak98I-D",
        "outputId": "19228d7b-17c5-44e9-93de-ec9fad2bf5b4"
      },
      "execution_count": 14,
      "outputs": [
        {
          "output_type": "stream",
          "name": "stdout",
          "text": [
            "Requirement already satisfied: spacy in /usr/local/lib/python3.11/dist-packages (3.8.7)\n",
            "Requirement already satisfied: spacy-legacy<3.1.0,>=3.0.11 in /usr/local/lib/python3.11/dist-packages (from spacy) (3.0.12)\n",
            "Requirement already satisfied: spacy-loggers<2.0.0,>=1.0.0 in /usr/local/lib/python3.11/dist-packages (from spacy) (1.0.5)\n",
            "Requirement already satisfied: murmurhash<1.1.0,>=0.28.0 in /usr/local/lib/python3.11/dist-packages (from spacy) (1.0.13)\n",
            "Requirement already satisfied: cymem<2.1.0,>=2.0.2 in /usr/local/lib/python3.11/dist-packages (from spacy) (2.0.11)\n",
            "Requirement already satisfied: preshed<3.1.0,>=3.0.2 in /usr/local/lib/python3.11/dist-packages (from spacy) (3.0.10)\n",
            "Requirement already satisfied: thinc<8.4.0,>=8.3.4 in /usr/local/lib/python3.11/dist-packages (from spacy) (8.3.6)\n",
            "Requirement already satisfied: wasabi<1.2.0,>=0.9.1 in /usr/local/lib/python3.11/dist-packages (from spacy) (1.1.3)\n",
            "Requirement already satisfied: srsly<3.0.0,>=2.4.3 in /usr/local/lib/python3.11/dist-packages (from spacy) (2.5.1)\n",
            "Requirement already satisfied: catalogue<2.1.0,>=2.0.6 in /usr/local/lib/python3.11/dist-packages (from spacy) (2.0.10)\n",
            "Requirement already satisfied: weasel<0.5.0,>=0.1.0 in /usr/local/lib/python3.11/dist-packages (from spacy) (0.4.1)\n",
            "Requirement already satisfied: typer<1.0.0,>=0.3.0 in /usr/local/lib/python3.11/dist-packages (from spacy) (0.16.0)\n",
            "Requirement already satisfied: tqdm<5.0.0,>=4.38.0 in /usr/local/lib/python3.11/dist-packages (from spacy) (4.67.1)\n",
            "Requirement already satisfied: numpy>=1.19.0 in /usr/local/lib/python3.11/dist-packages (from spacy) (2.0.2)\n",
            "Requirement already satisfied: requests<3.0.0,>=2.13.0 in /usr/local/lib/python3.11/dist-packages (from spacy) (2.32.3)\n",
            "Requirement already satisfied: pydantic!=1.8,!=1.8.1,<3.0.0,>=1.7.4 in /usr/local/lib/python3.11/dist-packages (from spacy) (2.11.7)\n",
            "Requirement already satisfied: jinja2 in /usr/local/lib/python3.11/dist-packages (from spacy) (3.1.6)\n",
            "Requirement already satisfied: setuptools in /usr/local/lib/python3.11/dist-packages (from spacy) (75.2.0)\n",
            "Requirement already satisfied: packaging>=20.0 in /usr/local/lib/python3.11/dist-packages (from spacy) (25.0)\n",
            "Requirement already satisfied: langcodes<4.0.0,>=3.2.0 in /usr/local/lib/python3.11/dist-packages (from spacy) (3.5.0)\n",
            "Requirement already satisfied: language-data>=1.2 in /usr/local/lib/python3.11/dist-packages (from langcodes<4.0.0,>=3.2.0->spacy) (1.3.0)\n",
            "Requirement already satisfied: annotated-types>=0.6.0 in /usr/local/lib/python3.11/dist-packages (from pydantic!=1.8,!=1.8.1,<3.0.0,>=1.7.4->spacy) (0.7.0)\n",
            "Requirement already satisfied: pydantic-core==2.33.2 in /usr/local/lib/python3.11/dist-packages (from pydantic!=1.8,!=1.8.1,<3.0.0,>=1.7.4->spacy) (2.33.2)\n",
            "Requirement already satisfied: typing-extensions>=4.12.2 in /usr/local/lib/python3.11/dist-packages (from pydantic!=1.8,!=1.8.1,<3.0.0,>=1.7.4->spacy) (4.14.1)\n",
            "Requirement already satisfied: typing-inspection>=0.4.0 in /usr/local/lib/python3.11/dist-packages (from pydantic!=1.8,!=1.8.1,<3.0.0,>=1.7.4->spacy) (0.4.1)\n",
            "Requirement already satisfied: charset-normalizer<4,>=2 in /usr/local/lib/python3.11/dist-packages (from requests<3.0.0,>=2.13.0->spacy) (3.4.2)\n",
            "Requirement already satisfied: idna<4,>=2.5 in /usr/local/lib/python3.11/dist-packages (from requests<3.0.0,>=2.13.0->spacy) (3.10)\n",
            "Requirement already satisfied: urllib3<3,>=1.21.1 in /usr/local/lib/python3.11/dist-packages (from requests<3.0.0,>=2.13.0->spacy) (2.5.0)\n",
            "Requirement already satisfied: certifi>=2017.4.17 in /usr/local/lib/python3.11/dist-packages (from requests<3.0.0,>=2.13.0->spacy) (2025.7.14)\n",
            "Requirement already satisfied: blis<1.4.0,>=1.3.0 in /usr/local/lib/python3.11/dist-packages (from thinc<8.4.0,>=8.3.4->spacy) (1.3.0)\n",
            "Requirement already satisfied: confection<1.0.0,>=0.0.1 in /usr/local/lib/python3.11/dist-packages (from thinc<8.4.0,>=8.3.4->spacy) (0.1.5)\n",
            "Requirement already satisfied: click>=8.0.0 in /usr/local/lib/python3.11/dist-packages (from typer<1.0.0,>=0.3.0->spacy) (8.2.1)\n",
            "Requirement already satisfied: shellingham>=1.3.0 in /usr/local/lib/python3.11/dist-packages (from typer<1.0.0,>=0.3.0->spacy) (1.5.4)\n",
            "Requirement already satisfied: rich>=10.11.0 in /usr/local/lib/python3.11/dist-packages (from typer<1.0.0,>=0.3.0->spacy) (13.9.4)\n",
            "Requirement already satisfied: cloudpathlib<1.0.0,>=0.7.0 in /usr/local/lib/python3.11/dist-packages (from weasel<0.5.0,>=0.1.0->spacy) (0.21.1)\n",
            "Requirement already satisfied: smart-open<8.0.0,>=5.2.1 in /usr/local/lib/python3.11/dist-packages (from weasel<0.5.0,>=0.1.0->spacy) (7.3.0.post1)\n",
            "Requirement already satisfied: MarkupSafe>=2.0 in /usr/local/lib/python3.11/dist-packages (from jinja2->spacy) (3.0.2)\n",
            "Requirement already satisfied: marisa-trie>=1.1.0 in /usr/local/lib/python3.11/dist-packages (from language-data>=1.2->langcodes<4.0.0,>=3.2.0->spacy) (1.2.1)\n",
            "Requirement already satisfied: markdown-it-py>=2.2.0 in /usr/local/lib/python3.11/dist-packages (from rich>=10.11.0->typer<1.0.0,>=0.3.0->spacy) (3.0.0)\n",
            "Requirement already satisfied: pygments<3.0.0,>=2.13.0 in /usr/local/lib/python3.11/dist-packages (from rich>=10.11.0->typer<1.0.0,>=0.3.0->spacy) (2.19.2)\n",
            "Requirement already satisfied: wrapt in /usr/local/lib/python3.11/dist-packages (from smart-open<8.0.0,>=5.2.1->weasel<0.5.0,>=0.1.0->spacy) (1.17.2)\n",
            "Requirement already satisfied: mdurl~=0.1 in /usr/local/lib/python3.11/dist-packages (from markdown-it-py>=2.2.0->rich>=10.11.0->typer<1.0.0,>=0.3.0->spacy) (0.1.2)\n"
          ]
        }
      ]
    },
    {
      "cell_type": "code",
      "source": [
        "import pandas as pd\n",
        "import spacy\n",
        "\n",
        "nlp = spacy.load(\"en_core_web_sm\")\n",
        "\n",
        "# Define gender flipping rules\n",
        "# Expanded mapping to include all lookups\n",
        "GENDER_MAP = {\n",
        "    (\"he\", \"female\"): \"she\",\n",
        "    (\"him\", \"female\"): \"her\",\n",
        "    (\"his\", \"female\"): \"her\",\n",
        "    (\"himself\", \"female\"): \"herself\",\n",
        "\n",
        "    (\"she\", \"male\"): \"he\",\n",
        "    (\"her\", \"male\"): \"him\",\n",
        "    (\"hers\", \"male\"): \"his\",\n",
        "    (\"herself\", \"male\"): \"himself\",\n",
        "}\n",
        "\n",
        "def disambiguate(token, target_gender):\n",
        "    key = (token.text.lower(), target_gender)\n",
        "    if token.text.lower() == \"her\":\n",
        "        if token.dep_ in [\"poss\", \"nmod\"]:\n",
        "            return \"his\" if target_gender == \"male\" else \"her\"\n",
        "        else:\n",
        "            return \"him\" if target_gender == \"male\" else \"her\"\n",
        "    return GENDER_MAP.get(key, token.text)\n",
        "\n",
        "\n",
        "\n",
        "# Preserve original casing\n",
        "def match_case(original, replacement):\n",
        "    return replacement if original.islower() else replacement.capitalize() if original.istitle() else replacement.upper()\n",
        "\n",
        "\n",
        "# Flip gendered pronouns in sentence\n",
        "def flip_gender(text, target_gender='female'):\n",
        "    doc = nlp(text)\n",
        "    result = []\n",
        "    for token in doc:\n",
        "        repl = disambiguate(token, target_gender)\n",
        "        if repl != token.text.lower():\n",
        "            final = match_case(token.text, repl)\n",
        "            result.append(final)\n",
        "        else:\n",
        "            result.append(token.text)\n",
        "    return \" \".join(result).replace(\" ,\", \",\").replace(\" .\", \".\").replace(\" !\", \"!\").replace(\" ?\", \"?\")"
      ],
      "metadata": {
        "id": "X60L9mzd-Ibi"
      },
      "execution_count": 26,
      "outputs": []
    },
    {
      "cell_type": "markdown",
      "source": [
        "Code — Gender Flipper with CSV Integration"
      ],
      "metadata": {
        "id": "X4p3M5Tz-TyD"
      }
    },
    {
      "cell_type": "code",
      "source": [
        "# Load your CSV (adjust path as needed)\n",
        "df = pd.read_csv(\"/content/pronoun_testcases.csv\")\n",
        "\n",
        "# Flip and store predictions\n",
        "df['predicted_output'] = df.apply(\n",
        "    lambda row: flip_gender(row['input_text'], row['target_gender'].strip().lower()), axis=1\n",
        ")\n",
        "\n",
        "# Evaluate\n",
        "df['is_correct'] = df['predicted_output'].str.strip() == df['expected_output'].str.strip()\n",
        "accuracy = df['is_correct'].mean()\n",
        "\n",
        "# Save results\n",
        "df.to_csv(\"gender_flip_results.csv\", index=False)\n",
        "\n",
        "# Print summary\n",
        "print(f\"✅ Accuracy: {accuracy:.2%} ({df['is_correct'].sum()}/{len(df)})\")\n",
        "print(df[['input_text', 'expected_output', 'predicted_output', 'is_correct']].to_string(index=False))\n"
      ],
      "metadata": {
        "colab": {
          "base_uri": "https://localhost:8080/"
        },
        "id": "DxPVqsJI-URX",
        "outputId": "beb3d593-fc7d-4255-f72f-75ed23085b25"
      },
      "execution_count": 27,
      "outputs": [
        {
          "output_type": "stream",
          "name": "stdout",
          "text": [
            "✅ Accuracy: 92.31% (24/26)\n",
            "                         input_text                     expected_output                    predicted_output  is_correct\n",
            "         He is going to the market.         She is going to the market.         She is going to the market.        True\n",
            "          His book is on the table.           Her book is on the table.           Her book is on the table.        True\n",
            "               I saw him yesterday.                I saw her yesterday.                I saw her yesterday.        True\n",
            "                   He hurt himself.                   She hurt herself.                   She hurt herself.        True\n",
            "           I called him last night.            I called her last night.            I called her last night.        True\n",
            "                   That is his car.                    That is her car.                    That is her car.        True\n",
            "         He told me about his trip.         She told me about her trip.         She told me about her trip.        True\n",
            "    The teacher gave him a warning.     The teacher gave her a warning.     The teacher gave her a warning.        True\n",
            " He blames himself for the mistake. She blames herself for the mistake. She blames herself for the mistake.        True\n",
            "             He brought his laptop.             She brought her laptop.             She brought her laptop.        True\n",
            "                He made it himself.                She made it herself.                She made it herself.        True\n",
            "         I don’t like his attitude.          I don’t like her attitude.         I do n’t like her attitude.       False\n",
            "             Tell him to come here.              Tell her to come here.              Tell her to come here.        True\n",
            "        She is going to the market.          He is going to the market.          He is going to the market.        True\n",
            "          Her book is on the table.           His book is on the table.           His book is on the table.        True\n",
            "               I saw her yesterday.                I saw him yesterday.                I saw him yesterday.        True\n",
            "                  She hurt herself.                    He hurt himself.                    He hurt himself.        True\n",
            "           I called her last night.            I called him last night.            I called him last night.        True\n",
            "                   That is her car.                    That is his car.                    That is his car.        True\n",
            "        She told me about her trip.          He told me about his trip.          He told me about his trip.        True\n",
            "    The teacher gave her a warning.     The teacher gave him a warning.     The teacher gave him a warning.        True\n",
            "She blames herself for the mistake.  He blames himself for the mistake.  He blames himself for the mistake.        True\n",
            "            She brought her laptop.              He brought his laptop.              He brought his laptop.        True\n",
            "               She made it herself.                 He made it himself.                 He made it himself.        True\n",
            "         I don’t like her attitude.          I don’t like his attitude.         I do n’t like his attitude.       False\n",
            "             Tell her to come here.              Tell him to come here.              Tell him to come here.        True\n"
          ]
        }
      ]
    },
    {
      "cell_type": "markdown",
      "source": [
        "Automatically flip gendered pronouns in sentences (e.g., \"he\" → \"she\", \"his\" → \"her\") based on the target gender, while keeping grammar correct."
      ],
      "metadata": {
        "id": "o3-6Lfg1_pHA"
      }
    },
    {
      "cell_type": "code",
      "source": [
        "import matplotlib.pyplot as plt\n",
        "\n",
        "# Bar chart: Correct vs Incorrect\n",
        "def plot_accuracy_bar(df):\n",
        "    correct = df['is_correct'].sum()\n",
        "    incorrect = len(df) - correct\n",
        "    plt.figure(figsize=(6, 4))\n",
        "    plt.bar(['Correct', 'Incorrect'], [correct, incorrect], color=['green', 'red'])\n",
        "    plt.title('Pronoun Flip Accuracy')\n",
        "    plt.ylabel('Number of Sentences')\n",
        "    plt.grid(axis='y', linestyle='--', alpha=0.7)\n",
        "    plt.tight_layout()\n",
        "    plt.show()\n",
        "\n",
        "plot_accuracy_bar(df)\n"
      ],
      "metadata": {
        "colab": {
          "base_uri": "https://localhost:8080/",
          "height": 407
        },
        "id": "1p7xyZuE_aXk",
        "outputId": "a1a7c405-85d3-4253-aa00-a6ab4820372d"
      },
      "execution_count": 28,
      "outputs": [
        {
          "output_type": "display_data",
          "data": {
            "text/plain": [
              "<Figure size 600x400 with 1 Axes>"
            ],
            "image/png": "[encoded data removed]"
          },
          "metadata": {}
        }
      ]
    },
    {
      "cell_type": "markdown",
      "source": [
        "⚙️ Steps Taken:\n",
        "Used spaCy NLP to break sentences into tokens and analyze their role (like subject, object, possessive).\n",
        "\n",
        "Defined mapping rules between male and female pronouns (e.g., \"he\" ↔ \"she\", \"his\" ↔ \"her\").\n",
        "\n",
        "Handled tricky cases, like:\n",
        "\n",
        "\"her\" being both object and possessive.\n",
        "\n",
        "\"his\" being both adjective and pronoun.\n",
        "\n",
        "Preserved casing (uppercase/lowercase) of original words.\n",
        "\n",
        "Processed CSV rows, applied the transformation, and compared with expected output to measure accuracy."
      ],
      "metadata": {
        "id": "k2hXoUjN_suI"
      }
    },
    {
      "cell_type": "code",
      "source": [
        "import seaborn as sns\n",
        "\n",
        "def plot_flip_status_table(df):\n",
        "    plt.figure(figsize=(10, len(df) * 0.5))\n",
        "    sns.heatmap(\n",
        "        df[['is_correct']].T,\n",
        "        cmap=[\"#ff6961\", \"#77dd77\"],\n",
        "        cbar=False,\n",
        "        xticklabels=df['input_text'],\n",
        "        yticklabels=[\"Flip OK?\"],\n",
        "        linewidths=1,\n",
        "        linecolor='gray'\n",
        "    )\n",
        "    plt.xticks(rotation=90, fontsize=8)\n",
        "    plt.title(\"Pronoun Flip Status Per Sentence\", pad=20)\n",
        "    plt.tight_layout()\n",
        "    plt.show()\n",
        "\n",
        "plot_flip_status_table(df)\n"
      ],
      "metadata": {
        "colab": {
          "base_uri": "https://localhost:8080/",
          "height": 1000
        },
        "id": "3nx5vmZQ_cRW",
        "outputId": "6d7d8e1c-7e13-44ac-c7b2-82dc5c09a8d1"
      },
      "execution_count": 29,
      "outputs": [
        {
          "output_type": "display_data",
          "data": {
            "text/plain": [
              "<Figure size 1000x1300 with 1 Axes>"
            ],
            "image/png": "[encoded data removed]"
          },
          "metadata": {}
        }
      ]
    },
    {
      "cell_type": "code",
      "source": [
        "# Show incorrect flips\n",
        "def print_errors(df):\n",
        "    errors = df[~df['is_correct']]\n",
        "    if errors.empty:\n",
        "        print(\"✅ No errors! All sentences flipped correctly.\")\n",
        "    else:\n",
        "        print(\"❌ Flip Errors:\")\n",
        "        display(errors[['input_text', 'expected_output', 'predicted_output']])\n",
        "\n",
        "print_errors(df)\n"
      ],
      "metadata": {
        "colab": {
          "base_uri": "https://localhost:8080/",
          "height": 130
        },
        "id": "Zz_qUaSA_fYO",
        "outputId": "005ac2ac-7dfc-4f20-860b-d27abe0c190b"
      },
      "execution_count": 30,
      "outputs": [
        {
          "output_type": "stream",
          "name": "stdout",
          "text": [
            "❌ Flip Errors:\n"
          ]
        },
        {
          "output_type": "display_data",
          "data": {
            "text/plain": [
              "                    input_text             expected_output  \\\n",
              "11  I don’t like his attitude.  I don’t like her attitude.   \n",
              "24  I don’t like her attitude.  I don’t like his attitude.   \n",
              "\n",
              "               predicted_output  \n",
              "11  I do n’t like her attitude.  \n",
              "24  I do n’t like his attitude.  "
            ],
            "text/html": [
              "\n",
              "  <div id=\"df-b057d417-8664-4b74-944f-793dbd999c1b\" class=\"colab-df-container\">\n",
              "    <div>\n",
              "<style scoped>\n",
              "    .dataframe tbody tr th:only-of-type {\n",
              "        vertical-align: middle;\n",
              "    }\n",
              "\n",
              "    .dataframe tbody tr th {\n",
              "        vertical-align: top;\n",
              "    }\n",
              "\n",
              "    .dataframe thead th {\n",
              "        text-align: right;\n",
              "    }\n",
              "</style>\n",
              "<table border=\"1\" class=\"dataframe\">\n",
              "  <thead>\n",
              "    <tr style=\"text-align: right;\">\n",
              "      <th></th>\n",
              "      <th>input_text</th>\n",
              "      <th>expected_output</th>\n",
              "      <th>predicted_output</th>\n",
              "    </tr>\n",
              "  </thead>\n",
              "  <tbody>\n",
              "    <tr>\n",
              "      <th>11</th>\n",
              "      <td>I don’t like his attitude.</td>\n",
              "      <td>I don’t like her attitude.</td>\n",
              "      <td>I do n’t like her attitude.</td>\n",
              "    </tr>\n",
              "    <tr>\n",
              "      <th>24</th>\n",
              "      <td>I don’t like her attitude.</td>\n",
              "      <td>I don’t like his attitude.</td>\n",
              "      <td>I do n’t like his attitude.</td>\n",
              "    </tr>\n",
              "  </tbody>\n",
              "</table>\n",
              "</div>\n",
              "    <div class=\"colab-df-buttons\">\n",
              "\n",
              "  <div class=\"colab-df-container\">\n",
              "    <button class=\"colab-df-convert\" onclick=\"convertToInteractive('df-b057d417-8664-4b74-944f-793dbd999c1b')\"\n",
              "            title=\"Convert this dataframe to an interactive table.\"\n",
              "            style=\"display:none;\">\n",
              "\n",
              "  <svg xmlns=\"http://www.w3.org/2000/svg\" height=\"24px\" viewBox=\"0 -960 960 960\">\n",
              "    <path d=\"M120-120v-720h720v720H120Zm60-500h600v-160H180v160Zm220 220h160v-160H400v160Zm0 220h160v-160H400v160ZM180-400h160v-160H180v160Zm440 0h160v-160H620v160ZM180-180h160v-160H180v160Zm440 0h160v-160H620v160Z\"/>\n",
              "  </svg>\n",
              "    </button>\n",
              "\n",
              "  <style>\n",
              "    .colab-df-container {\n",
              "      display:flex;\n",
              "      gap: 12px;\n",
              "    }\n",
              "\n",
              "    .colab-df-convert {\n",
              "      background-color: #E8F0FE;\n",
              "      border: none;\n",
              "      border-radius: 50%;\n",
              "      cursor: pointer;\n",
              "      display: none;\n",
              "      fill: #1967D2;\n",
              "      height: 32px;\n",
              "      padding: 0 0 0 0;\n",
              "      width: 32px;\n",
              "    }\n",
              "\n",
              "    .colab-df-convert:hover {\n",
              "      background-color: #E2EBFA;\n",
              "      box-shadow: 0px 1px 2px rgba(60, 64, 67, 0.3), 0px 1px 3px 1px rgba(60, 64, 67, 0.15);\n",
              "      fill: #174EA6;\n",
              "    }\n",
              "\n",
              "    .colab-df-buttons div {\n",
              "      margin-bottom: 4px;\n",
              "    }\n",
              "\n",
              "    [theme=dark] .colab-df-convert {\n",
              "      background-color: #3B4455;\n",
              "      fill: #D2E3FC;\n",
              "    }\n",
              "\n",
              "    [theme=dark] .colab-df-convert:hover {\n",
              "      background-color: #434B5C;\n",
              "      box-shadow: 0px 1px 3px 1px rgba(0, 0, 0, 0.15);\n",
              "      filter: drop-shadow(0px 1px 2px rgba(0, 0, 0, 0.3));\n",
              "      fill: #FFFFFF;\n",
              "    }\n",
              "  </style>\n",
              "\n",
              "    <script>\n",
              "      const buttonEl =\n",
              "        document.querySelector('#df-b057d417-8664-4b74-944f-793dbd999c1b button.colab-df-convert');\n",
              "      buttonEl.style.display =\n",
              "        google.colab.kernel.accessAllowed ? 'block' : 'none';\n",
              "\n",
              "      async function convertToInteractive(key) {\n",
              "        const element = document.querySelector('#df-b057d417-8664-4b74-944f-793dbd999c1b');\n",
              "        const dataTable =\n",
              "          await google.colab.kernel.invokeFunction('convertToInteractive',\n",
              "                                                    [key], {});\n",
              "        if (!dataTable) return;\n",
              "\n",
              "        const docLinkHtml = 'Like what you see? Visit the ' +\n",
              "          '<a target=\"_blank\" href=https://colab.research.google.com/notebooks/data_table.ipynb>data table notebook</a>'\n",
              "          + ' to learn more about interactive tables.';\n",
              "        element.innerHTML = '';\n",
              "        dataTable['output_type'] = 'display_data';\n",
              "        await google.colab.output.renderOutput(dataTable, element);\n",
              "        const docLink = document.createElement('div');\n",
              "        docLink.innerHTML = docLinkHtml;\n",
              "        element.appendChild(docLink);\n",
              "      }\n",
              "    </script>\n",
              "  </div>\n",
              "\n",
              "\n",
              "    <div id=\"df-30aa1e35-db6e-4776-833b-0637966d820a\">\n",
              "      <button class=\"colab-df-quickchart\" onclick=\"quickchart('df-30aa1e35-db6e-4776-833b-0637966d820a')\"\n",
              "                title=\"Suggest charts\"\n",
              "                style=\"display:none;\">\n",
              "\n",
              "<svg xmlns=\"http://www.w3.org/2000/svg\" height=\"24px\"viewBox=\"0 0 24 24\"\n",
              "     width=\"24px\">\n",
              "    <g>\n",
              "        <path d=\"M19 3H5c-1.1 0-2 .9-2 2v14c0 1.1.9 2 2 2h14c1.1 0 2-.9 2-2V5c0-1.1-.9-2-2-2zM9 17H7v-7h2v7zm4 0h-2V7h2v10zm4 0h-2v-4h2v4z\"/>\n",
              "    </g>\n",
              "</svg>\n",
              "      </button>\n",
              "\n",
              "<style>\n",
              "  .colab-df-quickchart {\n",
              "      --bg-color: #E8F0FE;\n",
              "      --fill-color: #1967D2;\n",
              "      --hover-bg-color: #E2EBFA;\n",
              "      --hover-fill-color: #174EA6;\n",
              "      --disabled-fill-color: #AAA;\n",
              "      --disabled-bg-color: #DDD;\n",
              "  }\n",
              "\n",
              "  [theme=dark] .colab-df-quickchart {\n",
              "      --bg-color: #3B4455;\n",
              "      --fill-color: #D2E3FC;\n",
              "      --hover-bg-color: #434B5C;\n",
              "      --hover-fill-color: #FFFFFF;\n",
              "      --disabled-bg-color: #3B4455;\n",
              "      --disabled-fill-color: #666;\n",
              "  }\n",
              "\n",
              "  .colab-df-quickchart {\n",
              "    background-color: var(--bg-color);\n",
              "    border: none;\n",
              "    border-radius: 50%;\n",
              "    cursor: pointer;\n",
              "    display: none;\n",
              "    fill: var(--fill-color);\n",
              "    height: 32px;\n",
              "    padding: 0;\n",
              "    width: 32px;\n",
              "  }\n",
              "\n",
              "  .colab-df-quickchart:hover {\n",
              "    background-color: var(--hover-bg-color);\n",
              "    box-shadow: 0 1px 2px rgba(60, 64, 67, 0.3), 0 1px 3px 1px rgba(60, 64, 67, 0.15);\n",
              "    fill: var(--button-hover-fill-color);\n",
              "  }\n",
              "\n",
              "  .colab-df-quickchart-complete:disabled,\n",
              "  .colab-df-quickchart-complete:disabled:hover {\n",
              "    background-color: var(--disabled-bg-color);\n",
              "    fill: var(--disabled-fill-color);\n",
              "    box-shadow: none;\n",
              "  }\n",
              "\n",
              "  .colab-df-spinner {\n",
              "    border: 2px solid var(--fill-color);\n",
              "    border-color: transparent;\n",
              "    border-bottom-color: var(--fill-color);\n",
              "    animation:\n",
              "      spin 1s steps(1) infinite;\n",
              "  }\n",
              "\n",
              "  @keyframes spin {\n",
              "    0% {\n",
              "      border-color: transparent;\n",
              "      border-bottom-color: var(--fill-color);\n",
              "      border-left-color: var(--fill-color);\n",
              "    }\n",
              "    20% {\n",
              "      border-color: transparent;\n",
              "      border-left-color: var(--fill-color);\n",
              "      border-top-color: var(--fill-color);\n",
              "    }\n",
              "    30% {\n",
              "      border-color: transparent;\n",
              "      border-left-color: var(--fill-color);\n",
              "      border-top-color: var(--fill-color);\n",
              "      border-right-color: var(--fill-color);\n",
              "    }\n",
              "    40% {\n",
              "      border-color: transparent;\n",
              "      border-right-color: var(--fill-color);\n",
              "      border-top-color: var(--fill-color);\n",
              "    }\n",
              "    60% {\n",
              "      border-color: transparent;\n",
              "      border-right-color: var(--fill-color);\n",
              "    }\n",
              "    80% {\n",
              "      border-color: transparent;\n",
              "      border-right-color: var(--fill-color);\n",
              "      border-bottom-color: var(--fill-color);\n",
              "    }\n",
              "    90% {\n",
              "      border-color: transparent;\n",
              "      border-bottom-color: var(--fill-color);\n",
              "    }\n",
              "  }\n",
              "</style>\n",
              "\n",
              "      <script>\n",
              "        async function quickchart(key) {\n",
              "          const quickchartButtonEl =\n",
              "            document.querySelector('#' + key + ' button');\n",
              "          quickchartButtonEl.disabled = true;  // To prevent multiple clicks.\n",
              "          quickchartButtonEl.classList.add('colab-df-spinner');\n",
              "          try {\n",
              "            const charts = await google.colab.kernel.invokeFunction(\n",
              "                'suggestCharts', [key], {});\n",
              "          } catch (error) {\n",
              "            console.error('Error during call to suggestCharts:', error);\n",
              "          }\n",
              "          quickchartButtonEl.classList.remove('colab-df-spinner');\n",
              "          quickchartButtonEl.classList.add('colab-df-quickchart-complete');\n",
              "        }\n",
              "        (() => {\n",
              "          let quickchartButtonEl =\n",
              "            document.querySelector('#df-30aa1e35-db6e-4776-833b-0637966d820a button');\n",
              "          quickchartButtonEl.style.display =\n",
              "            google.colab.kernel.accessAllowed ? 'block' : 'none';\n",
              "        })();\n",
              "      </script>\n",
              "    </div>\n",
              "\n",
              "    </div>\n",
              "  </div>\n"
            ],
            "application/vnd.google.colaboratory.intrinsic+json": {
              "type": "dataframe",
              "summary": "{\n  \"name\": \"print_errors(df)\",\n  \"rows\": 2,\n  \"fields\": [\n    {\n      \"column\": \"input_text\",\n      \"properties\": {\n        \"dtype\": \"string\",\n        \"num_unique_values\": 2,\n        \"samples\": [\n          \"I don\\u2019t like her attitude.\",\n          \"I don\\u2019t like his attitude.\"\n        ],\n        \"semantic_type\": \"\",\n        \"description\": \"\"\n      }\n    },\n    {\n      \"column\": \"expected_output\",\n      \"properties\": {\n        \"dtype\": \"string\",\n        \"num_unique_values\": 2,\n        \"samples\": [\n          \"I don\\u2019t like his attitude.\",\n          \"I don\\u2019t like her attitude.\"\n        ],\n        \"semantic_type\": \"\",\n        \"description\": \"\"\n      }\n    },\n    {\n      \"column\": \"predicted_output\",\n      \"properties\": {\n        \"dtype\": \"string\",\n        \"num_unique_values\": 2,\n        \"samples\": [\n          \"I do n\\u2019t like his attitude.\",\n          \"I do n\\u2019t like her attitude.\"\n        ],\n        \"semantic_type\": \"\",\n        \"description\": \"\"\n      }\n    }\n  ]\n}"
            }
          },
          "metadata": {}
        }
      ]
    },
    {
      "cell_type": "markdown",
      "source": [
        "✅ Result:\n",
        "A rule-based pronoun transformer with evaluation + visualization — accurate, explainable, and ready for production or UI wrapping.\n",
        "\n",
        "Let me know if you'd like to expand it for \"they/them\" neutrality, non-English, or quote handling."
      ],
      "metadata": {
        "id": "Io6Gu7eY_vXq"
      }
    }
  ]
}