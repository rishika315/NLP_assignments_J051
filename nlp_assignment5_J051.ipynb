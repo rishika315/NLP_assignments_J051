{
  "nbformat": 4,
  "nbformat_minor": 0,
  "metadata": {
    "colab": {
      "provenance": []
    },
    "kernelspec": {
      "name": "python3",
      "display_name": "Python 3"
    },
    "language_info": {
      "name": "python"
    }
  },
  "cells": [
    {
      "cell_type": "code",
      "execution_count": 19,
      "metadata": {
        "id": "Ul4QGxl6bAN8"
      },
      "outputs": [],
      "source": [
        "import pandas as pd\n",
        "import re\n",
        "from thefuzz import fuzz, process\n",
        "from sklearn.feature_extraction.text import TfidfVectorizer\n",
        "from sklearn.metrics.pairwise import cosine_similarity\n",
        "\n",
        "# -----------------------------\n",
        "# Helper functions\n",
        "# -----------------------------\n",
        "\n",
        "def clean_text(s):\n",
        "    \"\"\"Basic text normalization\"\"\"\n",
        "    if pd.isna(s):\n",
        "        return \"\"\n",
        "    s = str(s) # Convert to string to handle non-string types\n",
        "    s = s.lower()\n",
        "    s = re.sub(r\"[^a-z0-9\\s]\", \" \", s)  # keep alphanum + space\n",
        "    s = re.sub(r\"\\s+\", \" \", s).strip()\n",
        "    return s\n",
        "\n",
        "def best_fuzzy_match(query, choices, scorer=fuzz.token_set_ratio, threshold=80):\n",
        "    \"\"\"Find best fuzzy match for query from choices\"\"\"\n",
        "    best_match, score = process.extractOne(query, choices, scorer=scorer)\n",
        "    if score >= threshold:\n",
        "        return best_match, score\n",
        "    return None, score"
      ]
    },
    {
      "cell_type": "code",
      "source": [
        "def match_queries(resolved_path, new_path, output_path=\"query_matches.csv\"):\n",
        "    resolved_df = pd.read_csv(resolved_path)\n",
        "    new_df = pd.read_csv(new_path)\n",
        "\n",
        "    # Identify the correct columns\n",
        "    if \"Pre_Resolved_Query\" in resolved_df.columns:\n",
        "        resolved_col = \"Pre_Resolved_Query\"\n",
        "    else:\n",
        "        resolved_col = resolved_df.columns[0]\n",
        "\n",
        "    if \"New_Query\" in new_df.columns:\n",
        "        new_col = \"New_Query\"\n",
        "    else:\n",
        "        new_col = new_df.columns[0]\n",
        "\n",
        "    # Clean text\n",
        "    resolved_df[\"clean\"] = resolved_df[resolved_col].apply(clean_text)\n",
        "    new_df[\"clean\"] = new_df[new_col].apply(clean_text)\n",
        "\n",
        "    resolved_queries = resolved_df[\"clean\"].tolist()\n",
        "\n",
        "    matches = []\n",
        "    for q in new_df.itertuples():\n",
        "        # Fuzzy match\n",
        "        fuzzy_match, fuzzy_score = best_fuzzy_match(\n",
        "            q.clean, resolved_queries, scorer=fuzz.token_set_ratio, threshold=80\n",
        "        )\n",
        "\n",
        "        # TF-IDF cosine similarity\n",
        "        vectorizer = TfidfVectorizer().fit(resolved_queries + [q.clean])\n",
        "        tfidf_matrix = vectorizer.transform(resolved_queries + [q.clean])\n",
        "        cosine_sim = cosine_similarity(tfidf_matrix[-1], tfidf_matrix[:-1]).flatten()\n",
        "        best_idx = cosine_sim.argmax()\n",
        "        cosine_match = resolved_queries[best_idx]\n",
        "        cosine_score = cosine_sim[best_idx]\n",
        "\n",
        "        matches.append({\n",
        "            \"new_query\": getattr(q, new_col),\n",
        "            \"fuzzy_match\": fuzzy_match,\n",
        "            \"fuzzy_score\": fuzzy_score,\n",
        "            \"cosine_match\": cosine_match,\n",
        "            \"cosine_score\": cosine_score,\n",
        "        })\n",
        "\n",
        "    out_df = pd.DataFrame(matches)\n",
        "    out_df.to_csv(output_path, index=False)\n",
        "    print(f\"✅ Query matches saved to {output_path}\")\n"
      ],
      "metadata": {
        "id": "hTyL4bUgceEU"
      },
      "execution_count": 20,
      "outputs": []
    },
    {
      "cell_type": "code",
      "source": [
        "def match_names(base_path, variations_path, output_path=\"name_matches.csv\"):\n",
        "    base_df = pd.read_csv(base_path)\n",
        "    var_df = pd.read_csv(variations_path)\n",
        "\n",
        "    # Pick the correct text columns\n",
        "    if \"Base_Name\" in base_df.columns:\n",
        "        base_col = \"Base_Name\"\n",
        "    elif \"name\" in base_df.columns:\n",
        "        base_col = \"name\"\n",
        "    else:\n",
        "        base_col = base_df.columns[0]  # fallback\n",
        "\n",
        "    if \"Name_Variation\" in var_df.columns:\n",
        "        var_col = \"Name_Variation\"\n",
        "    elif \"name\" in var_df.columns:\n",
        "        var_col = \"name\"\n",
        "    else:\n",
        "        var_col = var_df.columns[0]  # fallback\n",
        "\n",
        "    # Normalize names\n",
        "    base_df[\"clean\"] = base_df[base_col].apply(normalize_name)\n",
        "    var_df[\"clean\"] = var_df[var_col].apply(normalize_name)\n",
        "\n",
        "    base_names = base_df[\"clean\"].tolist()\n",
        "\n",
        "    matches = []\n",
        "    for n in var_df.itertuples():\n",
        "        best_match, score = best_fuzzy_match(\n",
        "            n.clean, base_names, scorer=fuzz.token_sort_ratio, threshold=80\n",
        "        )\n",
        "        matches.append({\n",
        "            \"variation\": getattr(n, var_col),\n",
        "            \"base_match\": best_match,\n",
        "            \"score\": score,\n",
        "        })\n",
        "\n",
        "    out_df = pd.DataFrame(matches)\n",
        "    out_df.to_csv(output_path, index=False)\n",
        "    print(f\"✅ Name matches saved to {output_path}\")\n"
      ],
      "metadata": {
        "id": "CsOxZHk8d6Jj"
      },
      "execution_count": 21,
      "outputs": []
    },
    {
      "cell_type": "code",
      "source": [
        "\n",
        "if __name__ == \"__main__\":\n",
        "    # Task 1\n",
        "    match_queries(\"resolved_queries.csv\", \"new_queries.csv\")\n",
        "\n",
        "    # Task 2\n",
        "    match_names(\"base_names.csv\", \"name_variations.csv\")"
      ],
      "metadata": {
        "colab": {
          "base_uri": "https://localhost:8080/"
        },
        "id": "bF_vR1IOcq91",
        "outputId": "53c3d9eb-cbb6-4f15-ba63-9426a174b393"
      },
      "execution_count": 22,
      "outputs": [
        {
          "output_type": "stream",
          "name": "stdout",
          "text": [
            "✅ Query matches saved to query_matches.csv\n",
            "✅ Name matches saved to name_matches.csv\n"
          ]
        }
      ]
    },
    {
      "cell_type": "code",
      "source": [
        "import pandas as pd\n",
        "import matplotlib.pyplot as plt\n",
        "\n",
        "# -----------------------------\n",
        "# Test / Visualize Query Matches\n",
        "# -----------------------------\n",
        "def visualize_query_matches(path=\"query_matches.csv\"):\n",
        "    df = pd.read_csv(path)\n",
        "\n",
        "    print(\"\\n🔎 Sample Query Matches:\")\n",
        "    print(df.head(10))\n",
        "\n",
        "    # Plot score distributions\n",
        "    plt.figure(figsize=(10,5))\n",
        "    plt.hist(df[\"fuzzy_score\"], bins=20, alpha=0.6, label=\"Fuzzy Scores\")\n",
        "    plt.hist(df[\"cosine_score\"], bins=20, alpha=0.6, label=\"Cosine Scores\")\n",
        "    plt.xlabel(\"Score\")\n",
        "    plt.ylabel(\"Count\")\n",
        "    plt.title(\"Distribution of Matching Scores (Queries)\")\n",
        "    plt.legend()\n",
        "    plt.show()\n",
        "\n",
        "# -----------------------------\n",
        "# Test / Visualize Name Matches\n",
        "# -----------------------------\n",
        "def visualize_name_matches(path=\"name_matches.csv\"):\n",
        "    df = pd.read_csv(path)\n",
        "\n",
        "    print(\"\\n👤 Sample Name Matches:\")\n",
        "    print(df.head(10))\n",
        "\n",
        "    # Plot score distribution\n",
        "    plt.figure(figsize=(10,5))\n",
        "    plt.hist(df[\"score\"], bins=20, alpha=0.7, color=\"green\")\n",
        "    plt.xlabel(\"Fuzzy Score\")\n",
        "    plt.ylabel(\"Count\")\n",
        "    plt.title(\"Distribution of Name Matching Scores\")\n",
        "    plt.show()\n",
        "\n",
        "# -----------------------------\n",
        "# Run tests\n",
        "# -----------------------------\n",
        "if __name__ == \"__main__\":\n",
        "    visualize_query_matches()\n",
        "    visualize_name_matches()\n"
      ],
      "metadata": {
        "colab": {
          "base_uri": "https://localhost:8080/",
          "height": 1000
        },
        "id": "uLBTdvqUdU5Y",
        "outputId": "14fa45e0-904b-4e82-b4e3-af99a0ad15f6"
      },
      "execution_count": 23,
      "outputs": [
        {
          "output_type": "stream",
          "name": "stdout",
          "text": [
            "\n",
            "🔎 Sample Query Matches:\n",
            "                                   new_query  \\\n",
            "0           Unabel to conect to the internet   \n",
            "1                  Can’t connect to internet   \n",
            "2                        Intenet not working   \n",
            "3               Payment failed while chekout   \n",
            "4  Payment did not go through during chckout   \n",
            "5                 Payment issue at check out   \n",
            "6   Application crashes when opening setings   \n",
            "7           App crash when going to settings   \n",
            "8           Settings cause the app to chrash   \n",
            "9              Forgot passwrd and cant reset   \n",
            "\n",
            "                         fuzzy_match  fuzzy_score  \\\n",
            "0  unable to connect to the internet           95   \n",
            "1  unable to connect to the internet           86   \n",
            "2                                NaN           49   \n",
            "3     payment failed during checkout           83   \n",
            "4                                NaN           70   \n",
            "5                                NaN           57   \n",
            "6  app crashes when opening settings           88   \n",
            "7  app crashes when opening settings           86   \n",
            "8                                NaN           65   \n",
            "9                                NaN           75   \n",
            "\n",
            "                          cosine_match  cosine_score  \n",
            "0    unable to connect to the internet      0.596449  \n",
            "1    unable to connect to the internet      0.631378  \n",
            "2    unable to connect to the internet      0.000000  \n",
            "3       payment failed during checkout      0.402065  \n",
            "4       payment failed during checkout      0.291927  \n",
            "5       payment failed during checkout      0.162329  \n",
            "6    app crashes when opening settings      0.502150  \n",
            "7    app crashes when opening settings      0.481500  \n",
            "8    app crashes when opening settings      0.315719  \n",
            "9  forgot password and unable to reset      0.504758  \n"
          ]
        },
        {
          "output_type": "display_data",
          "data": {
            "text/plain": [
              "<Figure size 1000x500 with 1 Axes>"
            ],
            "image/png": "[encoded data removed]"
          },
          "metadata": {}
        },
        {
          "output_type": "stream",
          "name": "stdout",
          "text": [
            "\n",
            "👤 Sample Name Matches:\n",
            "       variation     base_match  score\n",
            "0   Thomas  King    thomas king    100\n",
            "1     ThomasKing            NaN     57\n",
            "2   Maria Garcia   maria garcia    100\n",
            "3      MaryLewis            NaN     53\n",
            "4       Nancy W.            NaN     74\n",
            "5   Dani3l Scott   daniel scott     92\n",
            "6    JOHN  smith     john smith    100\n",
            "7  linda johnson  linda johnson    100\n",
            "8   N@ncy Wright   nancy wright     92\n",
            "9  William Davis  william davis    100\n"
          ]
        },
        {
          "output_type": "display_data",
          "data": {
            "text/plain": [
              "<Figure size 1000x500 with 1 Axes>"
            ],
            "image/png": "[encoded data removed]"
          },
          "metadata": {}
        }
      ]
    },
    {
      "cell_type": "code",
      "source": [
        "import pandas as pd\n",
        "print(pd.read_csv(\"resolved_queries.csv\").head())\n"
      ],
      "metadata": {
        "colab": {
          "base_uri": "https://localhost:8080/"
        },
        "id": "TbNbYZGZdge9",
        "outputId": "db38832f-5e12-47f3-8578-a8ca1226f440"
      },
      "execution_count": 24,
      "outputs": [
        {
          "output_type": "stream",
          "name": "stdout",
          "text": [
            "   Query_ID                    Pre_Resolved_Query\n",
            "0         1     Unable to connect to the internet\n",
            "1         2        Payment failed during checkout\n",
            "2         3     App crashes when opening settings\n",
            "3         4   Forgot password and unable to reset\n",
            "4         5  Unable to upload files to the server\n"
          ]
        }
      ]
    }
  ]
}